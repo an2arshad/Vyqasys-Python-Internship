{
 "cells": [
  {
   "cell_type": "markdown",
   "metadata": {},
   "source": [
    "___\n",
    "\n",
    "<a href='https://viqasys.com/wp-content/uploads/2021/07/ns1.png'><img src='https://viqasys.com/wp-content/uploads/2021/07/ns1.png'/></a>\n",
    "___\n",
    "<center><em>Content Copyright VIQASYS INNOVATIONS PVT LTD.</em></center>\n",
    "\n",
    "# Assignment 1"
   ]
  },
  {
   "cell_type": "markdown",
   "metadata": {},
   "source": [
    "# Question 1\n",
    "\n",
    "In the below elements, identify which of them are values or expressions. Values can be integers or strings, while expressions will be mathematical operators or combinations thereof.\r\n",
    "'hello', \n",
    "-87., ), o, lu, alu, ssion)'(Value))str\" (Value)"
   ]
  },
  {
   "cell_type": "markdown",
   "metadata": {},
   "source": [
    "values : 'hello', -87\n",
    "expression : o, lu, alu, ssion)'(Value))str\"(Value)"
   ]
  },
  {
   "cell_type": "markdown",
   "metadata": {},
   "source": [
    "## Question 2\n",
    "\n",
    "Explain the difference between a string and a variable.\n"
   ]
  },
  {
   "cell_type": "markdown",
   "metadata": {},
   "source": [
    "A string is a value representing text, while a variable is a name that can refer to a value"
   ]
  },
  {
   "cell_type": "markdown",
   "metadata": {},
   "source": [
    "## Question 3\n",
    "Describe three different data types commonly used in programming"
   ]
  },
  {
   "cell_type": "markdown",
   "metadata": {},
   "source": [
    "1.Numeric data type\n",
    "2.Sequence data type\n",
    "3.List data type"
   ]
  },
  {
   "cell_type": "markdown",
   "metadata": {},
   "source": [
    "## Question 4\n",
    "What is an expression made up of? What is the general purpose of expressions?\n"
   ]
  },
  {
   "cell_type": "markdown",
   "metadata": {},
   "source": [
    "An expression is a combination of operators, constants and variables. An expression may consist of one or more operands, and zero or more operators to produce a value.\n",
    "An expression is a syntactic entity that may be evaluated to determine its value. "
   ]
  },
  {
   "cell_type": "markdown",
   "metadata": {},
   "source": [
    "## Question 5\n",
    "\n",
    "Explain the difference between an expression and a statement, using examples if necessary."
   ]
  },
  {
   "cell_type": "markdown",
   "metadata": {},
   "source": [
    "Expressions can be assigned or used as operands, while statements can only be declared.\n",
    "Statements create side effects to be useful, while expressions are values or execute to values.\n",
    "Expressions are unique in meaning, while statements are two-sided in execution. for example, 1 has a certain value while go() may be executed or not.\n",
    "Statements are the whole structure, while expressioons are the building blocks. For example, a line or a block of code is a statement."
   ]
  },
  {
   "cell_type": "markdown",
   "metadata": {},
   "source": [
    "## Question 6\n",
    "\n",
    "After running the following code, what does the variable \"bacon\" contain?\n",
    "\n",
    "bacon = 22 <br>\n",
    "\n",
    "bacon + 1"
   ]
  },
  {
   "cell_type": "markdown",
   "metadata": {},
   "source": [
    "22"
   ]
  },
  {
   "cell_type": "markdown",
   "metadata": {},
   "source": [
    "## Question 7\n",
    "Determine the values of the following two terms:<br>\n",
    "'spam' + 'spamspam'<br>\r\n",
    "'spam' * 3\r\n",
    "\n"
   ]
  },
  {
   "cell_type": "markdown",
   "metadata": {},
   "source": [
    "Both the terms will have same value \"spamspamspam\""
   ]
  },
  {
   "cell_type": "markdown",
   "metadata": {},
   "source": [
    "## Question 8\n",
    "\n",
    "Why is \"eggs\" a valid variable name while \"100\" is invalid?"
   ]
  },
  {
   "cell_type": "markdown",
   "metadata": {},
   "source": [
    "In python variable names must follow certain rules:\n",
    "1. They must Start with a letter (a-z,A-Z) or an underscore(_).\n",
    "2. The rest of the variable name can contain letters, numbers, or uunderscore.\n",
    "3. They can not start with a number.\n",
    "So, 'eggs' is a valid varible name because it starts with a letter. However, \"100\" is invalid because it starts with a number, which violates the naming rule in python."
   ]
  },
  {
   "cell_type": "markdown",
   "metadata": {},
   "source": [
    "## Question 9\n",
    "\n",
    "List three functions that can be used to obtain the integer, floating-point number, or string version of a value."
   ]
  },
  {
   "cell_type": "markdown",
   "metadata": {},
   "source": [
    "String conversion: str()\n",
    "* This function can be used to convert a value into a string.\n",
    "Integer conversion: int()\n",
    "* This function can be used to convert a value into an integer.\n",
    "Floating-Point conversion: float()\n",
    "* This function can be used to convert a value into a floating-point number."
   ]
  },
  {
   "cell_type": "code",
   "execution_count": null,
   "metadata": {},
   "outputs": [],
   "source": [
    "integer_value = int(\"10\")\n",
    "float_value = float(\"3.14\")\n",
    "string_value = str(42)\n"
   ]
  },
  {
   "cell_type": "markdown",
   "metadata": {},
   "source": [
    "## Question 10 \n",
    "Explain why the following expression causes an error and suggest how to fix it:<br>\n",
    "'I have eaten ' + 99 + ' burritos.'\r\n",
    "\n"
   ]
  },
  {
   "cell_type": "markdown",
   "metadata": {},
   "source": [
    "The error in the expression 'I have eaten ' +99+' burritos. occurs because we are trying to concatenate strings with other string, not integer.\n",
    "To fix this error, we need to convert the integer 99 into a string before concatenating it. we can do this by using the str() function."
   ]
  },
  {
   "cell_type": "code",
   "execution_count": 6,
   "metadata": {},
   "outputs": [
    {
     "name": "stdout",
     "output_type": "stream",
     "text": [
      "I have eaten 99 burritos.\n"
     ]
    }
   ],
   "source": [
    "result ='I have eaten '+str(99)+ ' burritos.'\n",
    "print(result)"
   ]
  },
  {
   "cell_type": "markdown",
   "metadata": {},
   "source": [
    "## Question 11\n",
    "Write a Python program to calculate the sum of two numbers and print the result.\r\n",
    "gative, or zero."
   ]
  },
  {
   "cell_type": "code",
   "execution_count": 3,
   "metadata": {},
   "outputs": [
    {
     "name": "stdin",
     "output_type": "stream",
     "text": [
      "Enter first number: 2\n",
      "Enter second number: 2\n"
     ]
    },
    {
     "name": "stdout",
     "output_type": "stream",
     "text": [
      "The sum is positive.\n"
     ]
    }
   ],
   "source": [
    "num1=float(input(\"Enter first number:\"))\n",
    "num2=float(input(\"Enter second number:\"))\n",
    "result=num1+num2\n",
    "if result>0:\n",
    "    print(\"The sum is positive.\")\n",
    "elif result<0:\n",
    "    print(\"The sum is negative.\")\n",
    "else:\n",
    "    print(\"The sum is Zero.\")"
   ]
  },
  {
   "cell_type": "markdown",
   "metadata": {},
   "source": [
    "## Question 12\n",
    "Create a Python program that takes the user's name as input and prints a greeting message.\n",
    "\n"
   ]
  },
  {
   "cell_type": "code",
   "execution_count": 5,
   "metadata": {},
   "outputs": [
    {
     "name": "stdin",
     "output_type": "stream",
     "text": [
      "Enter your name: Arshad\n"
     ]
    },
    {
     "name": "stdout",
     "output_type": "stream",
     "text": [
      "Hello, Arshad ! Nice to meet you !\n"
     ]
    }
   ],
   "source": [
    "name = input(\"Enter your name:\")\n",
    "print(\"Hello, \"+ name +\" ! Nice to meet you !\")"
   ]
  },
  {
   "cell_type": "markdown",
   "metadata": {},
   "source": [
    "## Question 13\n",
    "Write a Python program to calculate the area of a rectangle given its length and width. (Assume length and width are provided as inputs.)\n",
    "\n"
   ]
  },
  {
   "cell_type": "code",
   "execution_count": 7,
   "metadata": {},
   "outputs": [
    {
     "name": "stdin",
     "output_type": "stream",
     "text": [
      "Enter the length : 3\n",
      "Enter the width : 4\n"
     ]
    },
    {
     "name": "stdout",
     "output_type": "stream",
     "text": [
      "The area of the rectangle is : 12.0\n"
     ]
    }
   ],
   "source": [
    "length=float(input(\"Enter the length :\"))\n",
    "width=float(input(\"Enter the width :\"))\n",
    "area=length*width\n",
    "print(\"The area of the rectangle is :\",area)\n",
    "            "
   ]
  },
  {
   "cell_type": "markdown",
   "metadata": {},
   "source": [
    "## Question 14\n",
    "Create a Python program that asks the user for their age and prints out a message saying whether they are a child, teenager, or adult based on their age.\n",
    "\n"
   ]
  },
  {
   "cell_type": "code",
   "execution_count": 16,
   "metadata": {},
   "outputs": [
    {
     "name": "stdin",
     "output_type": "stream",
     "text": [
      "Please enter your age : 22\n"
     ]
    },
    {
     "name": "stdout",
     "output_type": "stream",
     "text": [
      "You are adult.\n"
     ]
    }
   ],
   "source": [
    "def categorize_age(age):\n",
    "    if age< 13:\n",
    "        return \"You are a child.\"\n",
    "    elif age< 18:\n",
    "        return \"You are teenager.\"\n",
    "    else:\n",
    "        return \"You are adult.\"\n",
    "        \n",
    "def main():\n",
    "    try:\n",
    "        age=int(input(\"Please enter your age :\"))\n",
    "        if age <0:\n",
    "            print(\"Age can not be negative.\")\n",
    "        else:\n",
    "            print(categorize_age(age))\n",
    "    except ValueError:\n",
    "        print(\"Please enter a valid age.\")\n",
    "if __name__==\"__main__\":\n",
    "            main()"
   ]
  },
  {
   "cell_type": "markdown",
   "metadata": {},
   "source": [
    "## Question 15\n",
    "Write a Python program to convert temperature from Celsius to Fahrenheit. (Assume Celsius temperature is provided as input.)\n",
    "\n"
   ]
  },
  {
   "cell_type": "code",
   "execution_count": 22,
   "metadata": {},
   "outputs": [
    {
     "name": "stdin",
     "output_type": "stream",
     "text": [
      "Enter temperature in Celsius: 33\n"
     ]
    },
    {
     "name": "stdout",
     "output_type": "stream",
     "text": [
      "Temperature in Fahrenheit: 91.4\n"
     ]
    }
   ],
   "source": [
    "def celsius_to_fahrenheit(celsius):\n",
    "    fahrenheit=(celsius*9/5)+32\n",
    "    return fahrenheit\n",
    "\n",
    "def main():\n",
    "    try:\n",
    "        celsius = float(input(\"Enter temperature in Celsius:\"))\n",
    "        fahrenheit=celsius_to_fahrenheit(celsius)\n",
    "        print(\"Temperature in Fahrenheit:\",fahrenheit)\n",
    "    except ValueError:\n",
    "        print(\"Please enter a valid temperature.\")\n",
    "if __name__==\"__main__\":\n",
    "    main()"
   ]
  },
  {
   "cell_type": "markdown",
   "metadata": {},
   "source": [
    "## Question 16\n",
    "Create a Python program that takes the radius of a circle as input and calculates its area. (Assume the value of pi is 3.14.)\n",
    "\n"
   ]
  },
  {
   "cell_type": "code",
   "execution_count": 26,
   "metadata": {},
   "outputs": [
    {
     "name": "stdin",
     "output_type": "stream",
     "text": [
      "Enter the radius of the circle : 3\n"
     ]
    },
    {
     "name": "stdout",
     "output_type": "stream",
     "text": [
      "The area of the circle is  28.274333882308138\n"
     ]
    }
   ],
   "source": [
    "import math\n",
    "radius = float(input(\"Enter the radius of the circle :\"))\n",
    "area=math.pi*radius**2\n",
    "print(\"The area of the circle is \",area)"
   ]
  },
  {
   "cell_type": "markdown",
   "metadata": {},
   "source": [
    "## Question 17\n",
    "Write a Python program to find the maximum of two numbers entered by the user.\n",
    "\n"
   ]
  },
  {
   "cell_type": "code",
   "execution_count": 24,
   "metadata": {},
   "outputs": [
    {
     "name": "stdin",
     "output_type": "stream",
     "text": [
      "Enter first number : 4\n",
      "Enter second number : 8\n"
     ]
    },
    {
     "name": "stdout",
     "output_type": "stream",
     "text": [
      "The maximum of  4.0  and  8.0  is  8.0\n"
     ]
    }
   ],
   "source": [
    "num1 =float(input(\"Enter first number :\"))\n",
    "num2 =float(input(\"Enter second number :\"))\n",
    "maximum=max(num1,num2)\n",
    "print(\"The maximum of \",num1,\" and \",num2,\" is \",maximum)"
   ]
  },
  {
   "cell_type": "markdown",
   "metadata": {},
   "source": [
    "## Question 18\n",
    "Create a Python program that asks the user to enter two numbers and prints out their product.\n",
    "\n"
   ]
  },
  {
   "cell_type": "code",
   "execution_count": 23,
   "metadata": {},
   "outputs": [
    {
     "name": "stdin",
     "output_type": "stream",
     "text": [
      "Enter first number : 2\n",
      "Enter second number : 4\n"
     ]
    },
    {
     "name": "stdout",
     "output_type": "stream",
     "text": [
      "The product of  2.0  and  4.0  is  8.0\n"
     ]
    }
   ],
   "source": [
    "num1 =float(input(\"Enter first number :\"))\n",
    "num2 =float(input(\"Enter second number :\"))\n",
    "product=num1*num2\n",
    "print(\"The product of \",num1,\" and \",num2,\" is \",product)"
   ]
  },
  {
   "cell_type": "markdown",
   "metadata": {},
   "source": [
    "## Question 19\n",
    "Write a Python program that prompts the user to enter a number and then prints whether the number is positive, negative, or zero."
   ]
  },
  {
   "cell_type": "code",
   "execution_count": 2,
   "metadata": {},
   "outputs": [
    {
     "name": "stdin",
     "output_type": "stream",
     "text": [
      "Enter a number:  3\n"
     ]
    },
    {
     "name": "stdout",
     "output_type": "stream",
     "text": [
      "The number is positive.\n"
     ]
    }
   ],
   "source": [
    "num = float(input(\"Enter a number: \"))\n",
    "if num>0:\n",
    "    print(\"The number is positive.\")\n",
    "elif num<0:\n",
    "    print(\"The number is negative.\")\n",
    "else:\n",
    "    print(\"The number is zero.\")\n",
    "    "
   ]
  }
 ],
 "metadata": {
  "anaconda-cloud": {},
  "kernelspec": {
   "display_name": "Python 3 (ipykernel)",
   "language": "python",
   "name": "python3"
  },
  "language_info": {
   "codemirror_mode": {
    "name": "ipython",
    "version": 3
   },
   "file_extension": ".py",
   "mimetype": "text/x-python",
   "name": "python",
   "nbconvert_exporter": "python",
   "pygments_lexer": "ipython3",
   "version": "3.12.2"
  }
 },
 "nbformat": 4,
 "nbformat_minor": 4
}
